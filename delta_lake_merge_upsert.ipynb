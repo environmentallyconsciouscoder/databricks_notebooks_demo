{
 "cells": [
  {
   "cell_type": "markdown",
   "metadata": {},
   "source": [
    "So basically a merge statement gives you the ability to insert any new records being received.\n",
    "Update any existing records for which new data has been received."
   ]
  },
  {
   "cell_type": "code",
   "execution_count": null,
   "metadata": {},
   "outputs": [],
   "source": [
    "#the tgt is where we are going to write the data to and upd is the updates that have come in\n",
    "\n",
    "%sql\n",
    "MERGE INTO f1_demo.drivers_merge tgt\n",
    "USING drivers-day1 upd\n",
    "ON tgt.driverId = upd.driverId\n",
    "WHEN MATCHED THEN\n",
    "    UPDATE SET tgt.dob = upd.dob,\n",
    "               tgt.forename = upd.forename,\n",
    "               tgt.surname = upd.surname,\n",
    "               tgt.updateDate = current_timestamp\n",
    "    WHEN NOT MATCHED\n",
    "        THEN INSERT (driverId, dob, forename, surname, createdDate) VALUES (driverId, dob, forename, surname, current_timestamp)"
   ]
  },
  {
   "cell_type": "markdown",
   "metadata": {},
   "source": [
    "if there is a match then set(update) the value. or else insert a new record"
   ]
  },
  {
   "cell_type": "code",
   "execution_count": null,
   "metadata": {},
   "outputs": [],
   "source": [
    "from pyspark.sql.functions import current_timestamp\n",
    "from delta.tables import DeltaTable\n",
    "\n",
    "deltaTable = DeltaTable.forPath(spark, \"/mnt/formula1dl/demo/drivers_merge\")\n",
    "\n",
    "deltaTable.alias(\"tgt\").merge(\n",
    "    drivers_day3_df.alias(\"upd\"),\n",
    "    \"tgt.driverId = upd.driverId\" \\\n",
    "   .whenMatchedUpdate(set = {\"dob\" : \"upd.dob\", \"forename\" : \"upd.forename\", \"surname\": \"upd.surname\", \"updateDate\": \"current_timestamp()\"}) \\\n",
    "   .whenNotMatchedInsert(values ={\n",
    "       \"driverId\": \"upd.dirverId\",\n",
    "       \"dob\": \"upd.dob\",\n",
    "       \"forename\": \"upd.forename\",\n",
    "       \"surname\": \"upd.surname\",\n",
    "       \"createdDate\": \"current_timestamp()\"\n",
    "   })\n",
    ").execute()"
   ]
  }
 ],
 "metadata": {
  "language_info": {
   "name": "python"
  }
 },
 "nbformat": 4,
 "nbformat_minor": 2
}
